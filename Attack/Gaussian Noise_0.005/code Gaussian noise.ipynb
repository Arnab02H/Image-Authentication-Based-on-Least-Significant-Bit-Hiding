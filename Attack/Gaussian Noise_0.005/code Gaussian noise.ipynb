{
 "cells": [
  {
   "cell_type": "markdown",
   "id": "3ee25a4c-4a9d-4961-b307-e58b36e8b24e",
   "metadata": {
    "jp-MarkdownHeadingCollapsed": true
   },
   "source": [
    "#### import module"
   ]
  },
  {
   "cell_type": "code",
   "execution_count": 2,
   "id": "2e4f38a3-dbf5-4819-93ad-cb9e64ead98b",
   "metadata": {},
   "outputs": [],
   "source": [
    "import numpy as np\n",
    "import cv2\n",
    "import matplotlib.pyplot as plt\n",
    "import math\n",
    "import hashlib\n",
    "import sys\n",
    "import random\n",
    "import os\n",
    "import pandas as pd"
   ]
  },
  {
   "cell_type": "markdown",
   "id": "dac45542-a9fb-4ccc-8dbf-15ac341e1930",
   "metadata": {
    "jp-MarkdownHeadingCollapsed": true
   },
   "source": [
    "#### Haar Transform"
   ]
  },
  {
   "cell_type": "markdown",
   "id": "7f40df85-3af5-4c4c-8d67-b4853525276b",
   "metadata": {},
   "source": [
    "##### Forward IWT"
   ]
  },
  {
   "cell_type": "code",
   "execution_count": 3,
   "id": "eacffeb7-e266-4f28-b91d-34efafa44a4d",
   "metadata": {},
   "outputs": [],
   "source": [
    "def forwardIWT(matrix1):\n",
    "    m,n=matrix1.shape\n",
    "    matrix=matrix1.tolist() #matrix is a list\n",
    "    \n",
    "    #row operation\n",
    "    row = list()\n",
    "    for i in range(m):\n",
    "        a=[]\n",
    "        d=[]      \n",
    "        for p in range(0,m):\n",
    "            if m>2*p+1: #how many time we get the a & d value        \n",
    "                x=matrix[i] #get the rows                \n",
    "                t=math.floor((x[2*p]+x[2*p+1])/2)                \n",
    "                a.append(t)\n",
    "                t=math.floor(x[2*p]-x[2*p+1])                \n",
    "                d.append(t)            \n",
    "                    \n",
    "        combine=a+d #combine the list     \n",
    "        row.append(combine)\n",
    "        a.clear()\n",
    "        d.clear()\n",
    "\n",
    "  \n",
    "    #column Operation\n",
    "    column=list() #operation w.r.t 'row' matrix\n",
    "    row1=[[x[i] for x in row] for i in range(len(row[0]))] #transpose of row\n",
    "    for i in range(n):\n",
    "        a=[]\n",
    "        d=[]      \n",
    "        for p in range(0,n):\n",
    "            if n>2*p+1: #how many time we get the a & d value        \n",
    "                x=row1[i] #get the rows                \n",
    "                t=math.floor((x[2*p]+x[2*p+1])/2)                \n",
    "                a.append(t)\n",
    "                t=math.floor(x[2*p]-x[2*p+1])                \n",
    "                d.append(t)            \n",
    "                    \n",
    "        combine=a+d #combine the list     \n",
    "        column.append(combine)\n",
    "        a.clear()\n",
    "        d.clear()\n",
    "\n",
    "    result=[[x[i] for x in column] for i in range(len(column[0]))] #again transpose of column matrix\n",
    "    res=np.array(result)\n",
    "    final=np.reshape(res, (m,n))\n",
    "    return final"
   ]
  },
  {
   "cell_type": "markdown",
   "id": "e2c26dd4-4de2-48d2-afb1-897a9c6a55e9",
   "metadata": {},
   "source": [
    "##### Inverse IWT"
   ]
  },
  {
   "cell_type": "code",
   "execution_count": 4,
   "id": "02045b97-7bb4-44f7-8721-8a6d7e16139a",
   "metadata": {},
   "outputs": [],
   "source": [
    "def inverseIWT(matrix1):\n",
    "    matrix=list()\n",
    "    m,n=matrix1.shape\n",
    "    matrix=matrix1.tolist() #matrix is a list\n",
    "\n",
    "    #Column Operation\n",
    "    trans_matrix=[[x[i] for x in matrix] for i in range(len(matrix[0]))] #transpose of matrix\n",
    "    column_tr=list()\n",
    "    for i in range(n):\n",
    "        flag=trans_matrix[i]\n",
    "        a=flag[:n//2]\n",
    "        d=flag[n//2:]\n",
    "        temp=list()\n",
    "        for p in range(0,n):\n",
    "            if n>2*p+1: #how many time we get the value\n",
    "                x1=a[p]+math.floor((d[p]+1)/2)\n",
    "                temp.append(x1)\n",
    "                x2=x1-d[p]\n",
    "                temp.append(x2)\n",
    "        column_tr.append(temp)\n",
    "\n",
    "\n",
    "    #row operation\n",
    "    column=[[x[i] for x in column_tr] for i in range(len(column_tr[0]))] #transpose of column matrix \n",
    "    row=list()\n",
    "    for i in range(m):\n",
    "        flag=column[i]\n",
    "        a=flag[:n//2]\n",
    "        d=flag[n//2:]\n",
    "        temp=list()\n",
    "        for p in range(0,m):\n",
    "            if m>2*p+1: #how many time we get the value\n",
    "                x1=a[p]+math.floor((d[p]+1)/2)\n",
    "                temp.append(x1)\n",
    "                x2=x1-d[p]\n",
    "                temp.append(x2)\n",
    "        row.append(temp)\n",
    "\n",
    "    res=np.array(row)\n",
    "    result=np.reshape(res, (m,n))\n",
    "    return result "
   ]
  },
  {
   "cell_type": "markdown",
   "id": "9e03f0bf-6580-4c45-b1be-455caa2fa72e",
   "metadata": {
    "jp-MarkdownHeadingCollapsed": true
   },
   "source": [
    "#### Histogram Shifting"
   ]
  },
  {
   "cell_type": "markdown",
   "id": "0e9ffe88-5fe1-405a-8579-ba35b5bfc002",
   "metadata": {},
   "source": [
    "##### Shifting"
   ]
  },
  {
   "cell_type": "code",
   "execution_count": 5,
   "id": "1d95e989-6649-47c9-9c6f-72f42fa03057",
   "metadata": {},
   "outputs": [],
   "source": [
    "def histogram_shifting(matrix, keyword):\n",
    "    row,col=matrix.shape\n",
    "    img=matrix.flatten() #image in 1D\n",
    "    list_img=list(set(img))\n",
    "    sort_pixel=sorted(list_img)\n",
    "\n",
    "    freq=[] #store freq of each element in sorted manner of element\n",
    "    for i in sort_pixel:\n",
    "        freq.append(list(img).count(i))\n",
    "    key_size=len(keyword) #size of payload\n",
    "    # print(\"Maximum freq in the image\",max(freq))\n",
    "    \n",
    "    \n",
    "    #find base point\n",
    "    flag=0\n",
    "    x=sorted(list_img)\n",
    "    for i in freq:\n",
    "        if i>=key_size:            \n",
    "            temp=freq.index(i)            \n",
    "            if x[temp]>0 or x[temp]<=0:\n",
    "                base_point=x[temp] #get base point\n",
    "                flag +=1\n",
    "    if flag==0:\n",
    "        print(\"No base Point\")\n",
    "        sys.exit()\n",
    "        # return False, False\n",
    "\n",
    "   \n",
    "    '''cahnge value of base point+1 and no. of basepoint>len(keyword),\n",
    "    i.e. more no of base point the the length of keyword,\n",
    "    then make those extra base point increase by 2'''   \n",
    "    flag=len(keyword)\n",
    "    count=0\n",
    "    for j in range(0, len(img)):\n",
    "            if img[j]==base_point+1:\n",
    "                img[j] +=1\n",
    "                \n",
    "            if img[j]==base_point:\n",
    "                count +=1\n",
    "                if count>flag:\n",
    "                    img[j] = img[j]-1 #chnage the extra bp to pixel with the previous value\n",
    "                            #eg. bp=152 then extra bps will be 151\n",
    "   \n",
    "    #histogram shifting\n",
    "    index=0\n",
    "    key=str(keyword)\n",
    "    for item in range(0, len(img)):\n",
    "        if img[item]==base_point and index<len(key):\n",
    "            if key[index]=='0':\n",
    "                img[item]= img[item] #string is 0 then value is 0\n",
    "            elif key[index]=='1':\n",
    "                img[item] += 1 #string is 0 then value increase by 1\n",
    "            index += 1\n",
    "\n",
    "    result=np.resize(img, (row,col))\n",
    "    return result,base_point\n",
    "                "
   ]
  },
  {
   "cell_type": "markdown",
   "id": "f57f8267-494b-427a-b219-77644df6d4f4",
   "metadata": {},
   "source": [
    "##### Extraction"
   ]
  },
  {
   "cell_type": "code",
   "execution_count": 6,
   "id": "6c85c428-9f1c-435c-8eb9-150960e34a0e",
   "metadata": {},
   "outputs": [],
   "source": [
    "def histogram_extract(matrix, base_point):\n",
    "    img=matrix.flatten()\n",
    "    payload=''\n",
    "    for item in img:\n",
    "        if item==base_point:\n",
    "            payload += '0'\n",
    "        elif item==base_point+1:\n",
    "            payload +='1'\n",
    "    return payload"
   ]
  },
  {
   "cell_type": "markdown",
   "id": "8f575e87-344a-4ee6-b45a-c97f59a6327f",
   "metadata": {
    "jp-MarkdownHeadingCollapsed": true
   },
   "source": [
    "#### SHA 256"
   ]
  },
  {
   "cell_type": "code",
   "execution_count": 7,
   "id": "7a021aac-2d38-46d0-b4a7-d48f555ca458",
   "metadata": {},
   "outputs": [],
   "source": [
    "def sha256_code(img):\n",
    "    img_str = str(img)#convert to string\n",
    "    \n",
    "    # Compute the SHA-256 hash of the string representation\n",
    "    sha256_hash = hashlib.sha256(img_str.encode('utf-8'))\n",
    "    \n",
    "    # Get the hexadecimal representation of the hash\n",
    "    hex_digest = sha256_hash.hexdigest()\n",
    "    \n",
    "    # Convert the hexadecimal digest to binary\n",
    "    binary_digest = bin(int(hex_digest, 16))[2:].zfill(256)\n",
    "    return hex_digest,binary_digest"
   ]
  },
  {
   "cell_type": "markdown",
   "id": "e92ba96d-8cf8-420b-9432-b5ae0075b2f3",
   "metadata": {
    "jp-MarkdownHeadingCollapsed": true
   },
   "source": [
    "#### Break & Make image into 4parts"
   ]
  },
  {
   "cell_type": "code",
   "execution_count": 8,
   "id": "8266f611-0b94-4ccb-81f7-21744028b39e",
   "metadata": {},
   "outputs": [],
   "source": [
    "#extract 1/4th Components of image\n",
    "\n",
    "def extract_quarter_components(image):\n",
    "    height, width = image.shape\n",
    "\n",
    "    # Determine the indices for slicing each quadrant\n",
    "    half_height = height // 2\n",
    "    half_width = width // 2\n",
    "\n",
    "    # Extract each quadrant\n",
    "    top_left = image[:half_height, :half_width]\n",
    "    top_right = image[:half_height, half_width:]\n",
    "    bottom_left = image[half_height:, :half_width]\n",
    "    bottom_right = image[half_height:, half_width:]\n",
    "\n",
    "    return top_left, top_right, bottom_left, bottom_right\n",
    "\n",
    "\n",
    "#Make the image from 4parts\n",
    "def reconstruct_image(top_left, top_right, bottom_left, bottom_right):\n",
    "    height, width = top_left.shape\n",
    "\n",
    "    # Create an empty array to hold the reconstructed image\n",
    "    reconstructed_image = np.empty((height * 2, width * 2))\n",
    "\n",
    "    # Place each component in its respective position\n",
    "    reconstructed_image[:height, :width] = top_left\n",
    "    reconstructed_image[:height, width:] = top_right\n",
    "    reconstructed_image[height:, :width] = bottom_left\n",
    "    reconstructed_image[height:, width:] = bottom_right\n",
    "\n",
    "    return reconstructed_image"
   ]
  },
  {
   "cell_type": "markdown",
   "id": "6cb0d317-c613-4cd8-9e13-28bc4c8525be",
   "metadata": {
    "jp-MarkdownHeadingCollapsed": true
   },
   "source": [
    "#### Convert Image to Binary"
   ]
  },
  {
   "cell_type": "code",
   "execution_count": 9,
   "id": "731cb4af-b63f-4909-a837-f4d243983237",
   "metadata": {},
   "outputs": [],
   "source": [
    "def binaryImage(img):\n",
    "    x=list()\n",
    "    for row in img:\n",
    "        for num in row:\n",
    "            y=format(num, '08b')\n",
    "            x.append(y)  # '08b' ensures leading zeros for each byte\n",
    "    str_bin=''\n",
    "    for item in x:\n",
    "        str_bin+=item\n",
    "    return x, str_bin"
   ]
  },
  {
   "cell_type": "markdown",
   "id": "ca26e69d-3653-4113-94f7-4ac1747d8483",
   "metadata": {
    "jp-MarkdownHeadingCollapsed": true
   },
   "source": [
    "#### Arnold's Cat Map"
   ]
  },
  {
   "cell_type": "code",
   "execution_count": 10,
   "id": "d674b74b-3906-492e-93db-514bccb6be54",
   "metadata": {},
   "outputs": [],
   "source": [
    "def arnold_cat_map(image,iteration):\n",
    "    row,col=image.shape\n",
    "    process_img = np.zeros_like(image)\n",
    "    original_img=image.copy()\n",
    "\n",
    "    # plt.title(f'Original Image')\n",
    "    # plt.imshow(image,cmap='gray')\n",
    "    # plt.axis('off')\n",
    "    # plt.show()\n",
    "    \n",
    "    #calculating each pixel\n",
    "    count=1\n",
    "    while (count<=iteration):\n",
    "        for x in range(row):\n",
    "            for y in range(col):\n",
    "                nx=(2*x+y)%row\n",
    "                ny=(x+y)%col\n",
    "                process_img[nx,ny] = image[x,y]\n",
    "        image=process_img.copy()\n",
    "        count +=1   \n",
    "    return process_img\n",
    "    "
   ]
  },
  {
   "cell_type": "markdown",
   "id": "db829824-544c-4d0f-9117-54970c7e8b3e",
   "metadata": {
    "jp-MarkdownHeadingCollapsed": true
   },
   "source": [
    "#### Convert Binary Image to 2D Image"
   ]
  },
  {
   "cell_type": "code",
   "execution_count": 11,
   "id": "331191a3-3ae9-43a2-bc5b-1b9ce0f2828a",
   "metadata": {},
   "outputs": [],
   "source": [
    "def decimalImage(binary_list,size):\n",
    "    decimal_list = []  # Initialize an empty list to store decimal integers\n",
    "    \n",
    "    # Iterate over each binary string in the input list\n",
    "    for binary_str in binary_list:\n",
    "        decimal_int = int(binary_str, 2)  # Convert the binary string to decimal integer\n",
    "        decimal_list.append(decimal_int)  # Add the decimal integer to the result list\n",
    "\n",
    "    #convert to a 2D list equal to size of secert image\n",
    "    result=list()\n",
    "    result = [decimal_list[i*size : (i+1)*size] for i in range(size)]   \n",
    "    return result"
   ]
  },
  {
   "cell_type": "markdown",
   "id": "41a66bb1-1091-452a-a2ec-ca21c1d5c330",
   "metadata": {
    "jp-MarkdownHeadingCollapsed": true
   },
   "source": [
    "#### Convert Text to binary & Binary to text & Binary to Text"
   ]
  },
  {
   "cell_type": "code",
   "execution_count": 12,
   "id": "205d0275-7830-42c9-ac45-3ba1549a5b4d",
   "metadata": {},
   "outputs": [],
   "source": [
    "def text2binary(text):\n",
    "    binary_text = ''.join(format(ord(char), '08b') for char in text)\n",
    "    return binary_text\n",
    "\n",
    "def binary2text(binary_text, errors='replace'):\n",
    "    # Split the binary string into 8-bit substrings\n",
    "    binary_list = [binary_text[i:i+8] for i in range(0, len(binary_text), 8)]\n",
    "    \n",
    "    # Convert binary to text\n",
    "    text = ''.join(chr(int(binary, 2)) for binary in binary_list)\n",
    "    \n",
    "    # Encode and decode using utf-8 to ensure compatibility\n",
    "    encoded_text = text.encode('utf-8', errors=errors)\n",
    "    final_text = encoded_text.decode('utf-8', errors=errors)\n",
    "    \n",
    "    return final_text\n",
    "\n",
    "def binary2number(binary_string):\n",
    "    # Split the binary string into 8-bit segments\n",
    "    binary_segments = [binary_string[i:i+8] for i in range(0, len(binary_string), 8)]    \n",
    "    # Convert each 8-bit binary segment to integer\n",
    "    integer_list = [int(segment, 2) for segment in binary_segments]    \n",
    "    return np.array(integer_list)"
   ]
  },
  {
   "cell_type": "markdown",
   "id": "83682b6b-1145-4b6b-af96-2d8f2776cb07",
   "metadata": {
    "jp-MarkdownHeadingCollapsed": true
   },
   "source": [
    "#### Hamming Code"
   ]
  },
  {
   "cell_type": "code",
   "execution_count": 13,
   "id": "c992df79-9f0a-4567-b9ba-ffa6d2ac64bd",
   "metadata": {},
   "outputs": [],
   "source": [
    "#Hamming Code\n",
    "def calcRedundantBits(m):\n",
    "    for i in range(m):\n",
    "        if(2**i >= m + i + 1):\n",
    "            return i     \n",
    "\n",
    "def posRedundantBits(data, r):\n",
    "    j = 0\n",
    "    k = 1\n",
    "    m = len(data)\n",
    "    res = ''\n",
    "    for i in range(1, m + r+1):\n",
    "        if(i == 2**j):\n",
    "            res = res + '0'\n",
    "            j += 1\n",
    "        else:\n",
    "            res = res + data[-1 * k]\n",
    "            k += 1\n",
    "    return res[::-1]\n",
    "\n",
    "def calcParityBits(arr, r):\n",
    "    n = len(arr)\n",
    "    for i in range(r):\n",
    "        val = 0\n",
    "        for j in range(1, n + 1):\n",
    "            if(j & (2**i) == (2**i)):\n",
    "                val = val ^ int(arr[-1 * j])\n",
    "        arr = arr[:n-(2**i)] + str(val) + arr[n-(2**i)+1:]\n",
    "    return arr\n",
    "\n",
    "def detectError(arr, nr):\n",
    "    n = len(arr)\n",
    "    res = 0\n",
    "    for i in range(nr):\n",
    "        val = 0\n",
    "        for j in range(1, n + 1):\n",
    "            if(j & (2**i) == (2**i)):\n",
    "                val = val ^ int(arr[-1 * j])\n",
    "        res = res + val*(10**i)\n",
    "    return int(str(res), 2)\n",
    "\n",
    "\n",
    "'''Hamming Code Insertion'''\n",
    "def hammingcode(bindata): #give binary string as argument\n",
    "    output=''\n",
    "    for i in range(0,len(bindata),8):\n",
    "        data=bindata[i:i+8]\n",
    "        m=len(data)\n",
    "        r=calcRedundantBits(m)\n",
    "        arr=posRedundantBits(data,r)\n",
    "        arr=calcParityBits(arr,r)\n",
    "        output+=str(arr)\n",
    "    return output,r #return binary string along with parity & return no. of redundent bits(r)\n",
    "\n",
    "'''Hamming Code Error Correction'''\n",
    "def removeerror(outdata,r): #takes argument the bit string along with parity & return no. of redundent bits(r)\n",
    "    output=''\n",
    "    for i in range(0,len(outdata),12):\n",
    "        data=outdata[i:i+12]\n",
    "        pos=detectError(data,r)\n",
    "        if pos==0:\n",
    "            temp=data[0:4]+data[5:8]+data[9]\n",
    "        else:\n",
    "            pos=len(data)-pos+1\n",
    "            if data[pos-1]=='0':\n",
    "                data=data[0:pos-1]+'1'+data[pos:]\n",
    "            else:\n",
    "                data=data[0:pos-1]+'0'+data[pos:]\n",
    "            \n",
    "            temp=data[0:4]+data[5:8]+data[9]\n",
    "        output+=temp\n",
    "    return output #return correct binary string"
   ]
  },
  {
   "cell_type": "markdown",
   "id": "dd168bc9-5925-4984-b772-a1afbd49a325",
   "metadata": {
    "jp-MarkdownHeadingCollapsed": true
   },
   "source": [
    "## Image Hiding"
   ]
  },
  {
   "cell_type": "code",
   "execution_count": 14,
   "id": "ae9fb265-5d59-4064-9c2c-2d87e39e0696",
   "metadata": {},
   "outputs": [],
   "source": [
    "def imageHiding(image, secret, epr):\n",
    "    #1. Forward IWT\n",
    "    fIWT_img=forwardIWT(image) #apply 1st time to image\n",
    "    LL,HL,LH,HH = extract_quarter_components(fIWT_img)\n",
    "    \n",
    "    #2.SECRET IMAGE TO SHA256 & CONVERT IT TO BINARY    \n",
    "    hash_image,hash_bin=sha256_code(secret)\n",
    "    \n",
    "    #3. Histogram Shifting of secret image to LL & SHA to HH\n",
    "    secret_bin, secret_str=binaryImage(secret) #convert to binary\n",
    "\n",
    "    #4. Histogram Shifting of secret image to HH & SHA to HH & EPR to LH\n",
    "    LL_coded, bp1=histogram_shifting(LL, hash_bin) #SHA coded to LL\n",
    "    HH_coded, bp2=histogram_shifting(HH, secret_str) #Secret Image coded to HH\n",
    "    LH_coded, bp3=histogram_shifting(LH, epr) #EPR coded to LH \n",
    "    # print(bp1,bp2,bp3)\n",
    "\n",
    "    \n",
    "    #5. Combine 4 Components\n",
    "    forwardIWT_Stego=reconstruct_image(LL_coded, HL, LH_coded, HH_coded)\n",
    "    Stego_Image=inverseIWT(forwardIWT_Stego) #again Inverse IWT to image\n",
    "\n",
    "\n",
    "    #Return stego image & base points(bp1=LL, bp2=HH, bp3=LH)  \n",
    "    return Stego_Image, bp1,bp2,bp3 "
   ]
  },
  {
   "cell_type": "markdown",
   "id": "37c0358f-5c50-4e05-996c-67bf53b76685",
   "metadata": {
    "jp-MarkdownHeadingCollapsed": true
   },
   "source": [
    "## Image Extraction"
   ]
  },
  {
   "cell_type": "code",
   "execution_count": 15,
   "id": "0699b5bc-59d4-43f3-9d22-b2fd4f1f943c",
   "metadata": {},
   "outputs": [],
   "source": [
    "def imageExtraction(stego_img,bp1,bp2,bp3):\n",
    "    #1. Forward IWT\n",
    "    fIWT_img=forwardIWT(stego_img) #apply 1st time to image\n",
    "    LL1,HL,LH1,HH1 = extract_quarter_components(fIWT_img)\n",
    "    \n",
    "    #2. Histogram Extraction from LL & HH\n",
    "    extract_secret_bin=histogram_extract(HH1,bp2) #extract secret image in binary,bp2=159\n",
    "    extract_sha_bin=histogram_extract(LL1, bp1) #extract SHA in binary, bp1=15\n",
    "    extract_epr_bin=histogram_extract(LH1, bp3) #extract EPR binary from LH, bp3\n",
    "\n",
    "    #3. Convert the binary str of image to Actual Secret Image\n",
    "    extract_secret_lis=list()\n",
    "    for i in range(0, len(extract_secret_bin) - 1, 8):\n",
    "            pair = extract_secret_bin[i:i+8]  # Extract a pair of consecutive digits\n",
    "            extract_secret_lis.append(pair) \n",
    "    \n",
    "    #convert to 2d decimal array\n",
    "    size=int(math.sqrt(len(extract_secret_lis)))#find size, square image so row & col value same\n",
    "    extract_secret_decimal=decimalImage(extract_secret_lis,size)\n",
    "    extract_secret_image=np.array(extract_secret_decimal)\n",
    "\n",
    "\n",
    "    return extract_secret_image, extract_sha_bin, extract_epr_bin #return secret image & SHA in binary from stego image & epr"
   ]
  },
  {
   "cell_type": "markdown",
   "id": "f2b72727-f31c-4afb-a068-0574568fd3ca",
   "metadata": {
    "jp-MarkdownHeadingCollapsed": true
   },
   "source": [
    "## Calculate Erros"
   ]
  },
  {
   "cell_type": "markdown",
   "id": "516b0a1b-07df-45db-8651-5c4e706690be",
   "metadata": {
    "jp-MarkdownHeadingCollapsed": true
   },
   "source": [
    "#### calculate normalized_cross_correlation (NCC)"
   ]
  },
  {
   "cell_type": "code",
   "execution_count": 16,
   "id": "5beb4827-0682-464e-a803-2a4a5af44f69",
   "metadata": {},
   "outputs": [],
   "source": [
    "def NCC(img1, img2):\n",
    "    # Ensure both images have the same depth and type\n",
    "    gray1 = cv2.normalize(img1, None, alpha=0, beta=1, norm_type=cv2.NORM_MINMAX, dtype=cv2.CV_32F)\n",
    "    gray2 = cv2.normalize(img2, None, alpha=0, beta=1, norm_type=cv2.NORM_MINMAX, dtype=cv2.CV_32F)\n",
    "\n",
    "    # Perform template matching\n",
    "    result = cv2.matchTemplate(gray1, gray2, cv2.TM_CCORR_NORMED)\n",
    "\n",
    "    # Extract the maximum correlation coefficient\n",
    "    max_corr_coeff = cv2.minMaxLoc(result)[1]\n",
    "\n",
    "    return max_corr_coeff"
   ]
  },
  {
   "cell_type": "markdown",
   "id": "1c7e0230-3855-4e47-a146-fd8c189ffe97",
   "metadata": {},
   "source": [
    "## ALL IMAGES"
   ]
  },
  {
   "cell_type": "markdown",
   "id": "dbcb9179-8e22-4aa1-abf6-c9c2e6f02819",
   "metadata": {},
   "source": [
    "### 1) Gaussian Noise "
   ]
  },
  {
   "cell_type": "markdown",
   "id": "299f6887-cf23-4771-876d-14a6a4e8ec05",
   "metadata": {},
   "source": [
    "#### Code"
   ]
  },
  {
   "cell_type": "code",
   "execution_count": 20,
   "id": "7abeaca1-a179-4fb6-b005-953ea2ec499b",
   "metadata": {},
   "outputs": [],
   "source": [
    "from skimage.util import random_noise\n",
    "def gaussian_noise(img,mean,var): #bg code\n",
    "    noise_img = random_noise(img, mode='gaussian',clip=True,mean=mean,var=var)\n",
    "    #noise_img=noise_img.astype('uint8')\n",
    "    noise_img = np.array(255*noise_img, dtype = 'uint8')\n",
    "    return noise_img"
   ]
  },
  {
   "cell_type": "markdown",
   "id": "9602c53f-1aae-409a-95bf-ced21ec983cf",
   "metadata": {},
   "source": [
    "#### i. mean=0, var=0.005"
   ]
  },
  {
   "cell_type": "code",
   "execution_count": 21,
   "id": "fda4261e-dab0-4ec1-8da7-55f7ea8c3da3",
   "metadata": {},
   "outputs": [],
   "source": [
    "def gaussian_attack():\n",
    "    coverimg_list=os.listdir(r\"C:\\Study Meterial\\Semester Project\\Practical\\WORK\\Cover Images\")\n",
    "    secretimg=cv2.imread(r\"C:\\Study Meterial\\Semester Project\\Practical\\WORK\\splash.tiff\",0)\n",
    "    secret=cv2.resize(secretimg,(16,16), interpolation=cv2.INTER_AREA) #secert image of size 8x8\n",
    "    \n",
    "    #Read The EPR File\n",
    "    file = open(\"C:\\Study Meterial\\Semester Project\\Practical\\WORK\\Without Attack\\sample epr - Copy.txt\", 'r')\n",
    "    EPR_txt = file.read()\n",
    "    file.close()\n",
    "    EPR_bin=text2binary(EPR_txt) #EPR text in binary\n",
    "\n",
    "    \n",
    "    #apply arnold cat map using iteration=7\n",
    "    secret_cat=arnold_cat_map(secret,iteration=7) #total need 12 for 16x16\n",
    "    #WITHOUT ATTACK\n",
    "    psnr=list()\n",
    "    mse=list()\n",
    "    ncc=list()\n",
    "    sha_list=list()\n",
    "    epr_ncc=list() #for epr only\n",
    "\n",
    "    \n",
    "    for img in coverimg_list:\n",
    "        cover=cv2.imread(f\"C:\\Study Meterial\\Semester Project\\Practical\\WORK\\Cover Images\\{img}\",0)\n",
    "        #hide\n",
    "        stego_img, bp1,bp2,bp3 =imageHiding(cover,secret_cat, EPR_bin) \n",
    "        cv2.imwrite(f\"C:\\Study Meterial\\Semester Project\\Practical\\WORK\\Attack\\Gaussian Noise_0.005\\Stego Images\\Stego_{img[:-4]}(splash).png\", stego_img)\n",
    "\n",
    "        \n",
    "        '''Apply ATTACKS Here'''\n",
    "        attack_stego_img=gaussian_noise(stego_img.astype(np.uint8),mean=0,var=0.005) #attack on image\n",
    "        #save attack image\n",
    "        cv2.imwrite(f\"C:\\Study Meterial\\Semester Project\\Practical\\WORK\\Attack\\Gaussian Noise_0.005\\Attack Images\\Gauss(0.005)_Stego_{img[:-4]}(splash).png\", attack_stego_img)\n",
    "\n",
    "        \n",
    "        #extraction & save files\n",
    "        extract_secret_image, extract_sha_bin, extract_epr_bin=imageExtraction(attack_stego_img.astype(np.float64), bp1,bp2,bp3)      \n",
    "        #save EPR text from each iamge\n",
    "        tempx=binary2text(extract_epr_bin)\n",
    "        path=f\"C:\\Study Meterial\\Semester Project\\Practical\\WORK\\Attack\\Gaussian Noise_0.005\\Extracted EPR\\Extract EPR Stego_{img[:-4]}.txt\"\n",
    "        with open(path, 'w', encoding='utf-8', errors='replace') as file_epr:\n",
    "            file_epr.write(tempx)\n",
    "        file_epr.close()\n",
    "        \n",
    "    \n",
    "        \n",
    "        \n",
    "        #compare SHA\n",
    "        hash_image,hash_bin=sha256_code(extract_secret_image)\n",
    "        temp=(hash_bin==extract_sha_bin)\n",
    "        sha_list.append(temp)\n",
    "        #Arnold Cat Map Again\n",
    "        secret_after_cat=arnold_cat_map(extract_secret_image,iteration=5)\n",
    "        #save watermark image\n",
    "        cv2.imwrite(f\"C:\\Study Meterial\\Semester Project\\Practical\\WORK\\Attack\\Gaussian Noise_0.005\\Extracted Watermark\\Watermark Stego_{img[:-4]}.png\", secret_after_cat)\n",
    "\n",
    "        #calculate erros for secret image\n",
    "        image1 = cover.astype(np.float64)\n",
    "        image2 = stego_img.astype(np.float64)\n",
    "        psnr.append(cv2.PSNR(image1,image2))\n",
    "        mse.append(np.mean((image1 - image2) ** 2))\n",
    "        ncc.append(NCC(secret,secret_after_cat))  \n",
    "\n",
    "\n",
    "        #calculate error for EPR text\n",
    "        epr_inserted=binary2number(EPR_bin)\n",
    "        epr_extracted=binary2number(extract_epr_bin)\n",
    "        res=NCC(epr_inserted,epr_extracted)\n",
    "        epr_ncc.append(res)\n",
    "    \n",
    "    #for secert image\n",
    "    data_img={\n",
    "        'Cover Image':coverimg_list,\n",
    "        'Secret Image':['splash.tiff']*10,\n",
    "        'PSNR':psnr,\n",
    "        'MSE':mse,\n",
    "        'NCC':ncc,\n",
    "        'SHA':sha_list\n",
    "    }\n",
    "\n",
    "    #for EPR text\n",
    "    data_epr={\n",
    "        'Cover Image':coverimg_list,\n",
    "        'EPR':['Sample EPR']*10,\n",
    "        'NCC':epr_ncc\n",
    "    }\n",
    "\n",
    "    df1=pd.DataFrame(data_img)\n",
    "    df2=pd.DataFrame(data_epr)\n",
    "    return df1,df2\n"
   ]
  },
  {
   "cell_type": "code",
   "execution_count": 22,
   "id": "0a3e2b41-2d3a-480c-ab0e-c557a0bbc52a",
   "metadata": {},
   "outputs": [
    {
     "data": {
      "text/html": [
       "<div>\n",
       "<style scoped>\n",
       "    .dataframe tbody tr th:only-of-type {\n",
       "        vertical-align: middle;\n",
       "    }\n",
       "\n",
       "    .dataframe tbody tr th {\n",
       "        vertical-align: top;\n",
       "    }\n",
       "\n",
       "    .dataframe thead th {\n",
       "        text-align: right;\n",
       "    }\n",
       "</style>\n",
       "<table border=\"1\" class=\"dataframe\">\n",
       "  <thead>\n",
       "    <tr style=\"text-align: right;\">\n",
       "      <th></th>\n",
       "      <th>Cover Image</th>\n",
       "      <th>Secret Image</th>\n",
       "      <th>PSNR</th>\n",
       "      <th>MSE</th>\n",
       "      <th>NCC</th>\n",
       "      <th>SHA</th>\n",
       "    </tr>\n",
       "  </thead>\n",
       "  <tbody>\n",
       "    <tr>\n",
       "      <th>0</th>\n",
       "      <td>airplane.tiff</td>\n",
       "      <td>splash.tiff</td>\n",
       "      <td>59.534156</td>\n",
       "      <td>0.072388</td>\n",
       "      <td>0.804614</td>\n",
       "      <td>False</td>\n",
       "    </tr>\n",
       "    <tr>\n",
       "      <th>1</th>\n",
       "      <td>Barbara.tif</td>\n",
       "      <td>splash.tiff</td>\n",
       "      <td>61.207613</td>\n",
       "      <td>0.049240</td>\n",
       "      <td>0.830439</td>\n",
       "      <td>False</td>\n",
       "    </tr>\n",
       "    <tr>\n",
       "      <th>2</th>\n",
       "      <td>elaine.tiff</td>\n",
       "      <td>splash.tiff</td>\n",
       "      <td>61.149793</td>\n",
       "      <td>0.049900</td>\n",
       "      <td>0.782273</td>\n",
       "      <td>False</td>\n",
       "    </tr>\n",
       "    <tr>\n",
       "      <th>3</th>\n",
       "      <td>fishingboat.tiff</td>\n",
       "      <td>splash.tiff</td>\n",
       "      <td>60.747986</td>\n",
       "      <td>0.054737</td>\n",
       "      <td>0.802841</td>\n",
       "      <td>False</td>\n",
       "    </tr>\n",
       "    <tr>\n",
       "      <th>4</th>\n",
       "      <td>Goldhill.tif</td>\n",
       "      <td>splash.tiff</td>\n",
       "      <td>61.512825</td>\n",
       "      <td>0.045898</td>\n",
       "      <td>0.845401</td>\n",
       "      <td>False</td>\n",
       "    </tr>\n",
       "    <tr>\n",
       "      <th>5</th>\n",
       "      <td>house.tiff</td>\n",
       "      <td>splash.tiff</td>\n",
       "      <td>60.280163</td>\n",
       "      <td>0.060963</td>\n",
       "      <td>0.790848</td>\n",
       "      <td>False</td>\n",
       "    </tr>\n",
       "    <tr>\n",
       "      <th>6</th>\n",
       "      <td>lena.tiff</td>\n",
       "      <td>splash.tiff</td>\n",
       "      <td>60.402531</td>\n",
       "      <td>0.059269</td>\n",
       "      <td>0.837974</td>\n",
       "      <td>False</td>\n",
       "    </tr>\n",
       "    <tr>\n",
       "      <th>7</th>\n",
       "      <td>peeper.tiff</td>\n",
       "      <td>splash.tiff</td>\n",
       "      <td>61.354405</td>\n",
       "      <td>0.047604</td>\n",
       "      <td>0.772879</td>\n",
       "      <td>False</td>\n",
       "    </tr>\n",
       "    <tr>\n",
       "      <th>8</th>\n",
       "      <td>sailboat.tiff</td>\n",
       "      <td>splash.tiff</td>\n",
       "      <td>61.061715</td>\n",
       "      <td>0.050922</td>\n",
       "      <td>0.788137</td>\n",
       "      <td>False</td>\n",
       "    </tr>\n",
       "    <tr>\n",
       "      <th>9</th>\n",
       "      <td>tank.tiff</td>\n",
       "      <td>splash.tiff</td>\n",
       "      <td>61.377085</td>\n",
       "      <td>0.047356</td>\n",
       "      <td>0.805702</td>\n",
       "      <td>False</td>\n",
       "    </tr>\n",
       "  </tbody>\n",
       "</table>\n",
       "</div>"
      ],
      "text/plain": [
       "        Cover Image Secret Image       PSNR       MSE       NCC    SHA\n",
       "0     airplane.tiff  splash.tiff  59.534156  0.072388  0.804614  False\n",
       "1       Barbara.tif  splash.tiff  61.207613  0.049240  0.830439  False\n",
       "2       elaine.tiff  splash.tiff  61.149793  0.049900  0.782273  False\n",
       "3  fishingboat.tiff  splash.tiff  60.747986  0.054737  0.802841  False\n",
       "4      Goldhill.tif  splash.tiff  61.512825  0.045898  0.845401  False\n",
       "5        house.tiff  splash.tiff  60.280163  0.060963  0.790848  False\n",
       "6         lena.tiff  splash.tiff  60.402531  0.059269  0.837974  False\n",
       "7       peeper.tiff  splash.tiff  61.354405  0.047604  0.772879  False\n",
       "8     sailboat.tiff  splash.tiff  61.061715  0.050922  0.788137  False\n",
       "9         tank.tiff  splash.tiff  61.377085  0.047356  0.805702  False"
      ]
     },
     "execution_count": 22,
     "metadata": {},
     "output_type": "execute_result"
    }
   ],
   "source": [
    "data1,data2=gaussian_attack()\n",
    "data1"
   ]
  },
  {
   "cell_type": "code",
   "execution_count": 23,
   "id": "204c27d9-a833-4a8f-8c92-5b86eb63fd1b",
   "metadata": {},
   "outputs": [],
   "source": [
    "data1.to_csv(r'C:\\Study Meterial\\Semester Project\\Practical\\WORK\\Attack\\Gaussian Noise_0.005\\Gaussian Attack.csv', index=False)\n",
    "data2.to_csv(r'C:\\Study Meterial\\Semester Project\\Practical\\WORK\\Attack\\Gaussian Noise_0.005\\EPR ncc.csv', index=False)"
   ]
  }
 ],
 "metadata": {
  "kernelspec": {
   "display_name": "Python 3 (ipykernel)",
   "language": "python",
   "name": "python3"
  },
  "language_info": {
   "codemirror_mode": {
    "name": "ipython",
    "version": 3
   },
   "file_extension": ".py",
   "mimetype": "text/x-python",
   "name": "python",
   "nbconvert_exporter": "python",
   "pygments_lexer": "ipython3",
   "version": "3.11.1"
  },
  "widgets": {
   "application/vnd.jupyter.widget-state+json": {
    "state": {},
    "version_major": 2,
    "version_minor": 0
   }
  }
 },
 "nbformat": 4,
 "nbformat_minor": 5
}
